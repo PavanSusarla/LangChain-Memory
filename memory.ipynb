{
 "cells": [
  {
   "cell_type": "markdown",
   "id": "680f9fc6-1897-435f-8b72-01cffc9a0e1a",
   "metadata": {},
   "source": [
    "ConversationBufferMemory (Basic)"
   ]
  },
  {
   "cell_type": "code",
   "execution_count": 3,
   "id": "20031bb1-943a-41a4-b72f-55a8f7eb070a",
   "metadata": {
    "execution": {
     "iopub.execute_input": "2025-10-03T15:09:18.531239Z",
     "iopub.status.busy": "2025-10-03T15:09:18.530931Z",
     "iopub.status.idle": "2025-10-03T15:09:20.630124Z",
     "shell.execute_reply": "2025-10-03T15:09:20.628513Z",
     "shell.execute_reply.started": "2025-10-03T15:09:18.531217Z"
    }
   },
   "outputs": [
    {
     "name": "stdout",
     "output_type": "stream",
     "text": [
      "{'input': 'Hi, my name is Pavan.', 'history': '', 'response': \"Hello Pavan! It's nice to meet you. How can I assist you today?\"}\n",
      "{'input': 'What is my name?', 'history': \"Human: Hi, my name is Pavan.\\nAI: Hello Pavan! It's nice to meet you. How can I assist you today?\", 'response': 'Your name is Pavan.'}\n"
     ]
    }
   ],
   "source": [
    "from langchain_openai import ChatOpenAI\n",
    "from langchain.chains import ConversationChain\n",
    "from langchain.memory import ConversationBufferMemory\n",
    "\n",
    "# Initialize Chat LLM\n",
    "llm = ChatOpenAI(model=\"gpt-3.5-turbo\", temperature=0)\n",
    "\n",
    "# Add memory\n",
    "memory = ConversationBufferMemory()\n",
    "\n",
    "conversation = ConversationChain(llm=llm, memory=memory)\n",
    "\n",
    "print(conversation.invoke(\"Hi, my name is Pavan.\"))\n",
    "print(conversation.invoke(\"What is my name?\"))\n"
   ]
  },
  {
   "cell_type": "markdown",
   "id": "5e246a19-91b0-4474-8676-66f949064a28",
   "metadata": {},
   "source": [
    "ConversationBufferWindowMemory"
   ]
  },
  {
   "cell_type": "code",
   "execution_count": 4,
   "id": "da61346d-39bb-4702-b1bf-6e429ab04c2b",
   "metadata": {
    "execution": {
     "iopub.execute_input": "2025-10-03T15:09:49.342281Z",
     "iopub.status.busy": "2025-10-03T15:09:49.341828Z",
     "iopub.status.idle": "2025-10-03T15:09:52.706248Z",
     "shell.execute_reply": "2025-10-03T15:09:52.704040Z",
     "shell.execute_reply.started": "2025-10-03T15:09:49.342247Z"
    }
   },
   "outputs": [
    {
     "name": "stderr",
     "output_type": "stream",
     "text": [
      "C:\\Users\\DELL\\AppData\\Local\\Temp\\ipykernel_32480\\2197946636.py:3: LangChainDeprecationWarning: Please see the migration guide at: https://python.langchain.com/docs/versions/migrating_memory/\n",
      "  memory = ConversationBufferWindowMemory(k=2)  # Keep last 2 exchanges\n"
     ]
    },
    {
     "name": "stdout",
     "output_type": "stream",
     "text": [
      "{'input': 'My favorite color is blue.', 'history': '', 'response': \"That's great to hear! Blue is a popular color choice for many people. Did you know that blue is often associated with calmness, serenity, and stability? It's also the color of the sky and the ocean. What do you like most about the color blue?\"}\n",
      "{'input': 'I love data science.', 'history': \"Human: My favorite color is blue.\\nAI: That's great to hear! Blue is a popular color choice for many people. Did you know that blue is often associated with calmness, serenity, and stability? It's also the color of the sky and the ocean. What do you like most about the color blue?\", 'response': \"Data science is a fascinating field! It involves analyzing and interpreting complex data to gain insights and make informed decisions. Did you know that data science combines various disciplines such as statistics, computer science, and domain knowledge? It's a rapidly growing field with a wide range of applications in industries like healthcare, finance, and technology. What specifically do you enjoy most about data science?\"}\n",
      "{'input': 'What is my favorite color?', 'history': \"Human: My favorite color is blue.\\nAI: That's great to hear! Blue is a popular color choice for many people. Did you know that blue is often associated with calmness, serenity, and stability? It's also the color of the sky and the ocean. What do you like most about the color blue?\\nHuman: I love data science.\\nAI: Data science is a fascinating field! It involves analyzing and interpreting complex data to gain insights and make informed decisions. Did you know that data science combines various disciplines such as statistics, computer science, and domain knowledge? It's a rapidly growing field with a wide range of applications in industries like healthcare, finance, and technology. What specifically do you enjoy most about data science?\", 'response': \"I'm sorry, but I do not have that information. Can you please tell me what your favorite color is?\"}\n"
     ]
    }
   ],
   "source": [
    "from langchain.memory import ConversationBufferWindowMemory\n",
    "\n",
    "memory = ConversationBufferWindowMemory(k=2)  # Keep last 2 exchanges\n",
    "conversation = ConversationChain(llm=llm, memory=memory)\n",
    "\n",
    "print(conversation.invoke(\"My favorite color is blue.\"))\n",
    "print(conversation.invoke(\"I love data science.\"))\n",
    "print(conversation.invoke(\"What is my favorite color?\"))  # Might forget\n"
   ]
  },
  {
   "cell_type": "markdown",
   "id": "3faa04d7-79a4-4c84-93a5-ca0a5f3ca292",
   "metadata": {},
   "source": [
    "ConversationSummaryMemory"
   ]
  },
  {
   "cell_type": "code",
   "execution_count": 5,
   "id": "a11529f4-4876-48e9-88fe-b95b0b99cf40",
   "metadata": {
    "execution": {
     "iopub.execute_input": "2025-10-03T15:10:05.658333Z",
     "iopub.status.busy": "2025-10-03T15:10:05.657822Z",
     "iopub.status.idle": "2025-10-03T15:10:15.215800Z",
     "shell.execute_reply": "2025-10-03T15:10:15.212184Z",
     "shell.execute_reply.started": "2025-10-03T15:10:05.658302Z"
    }
   },
   "outputs": [
    {
     "name": "stderr",
     "output_type": "stream",
     "text": [
      "C:\\Users\\DELL\\AppData\\Local\\Temp\\ipykernel_32480\\3379638802.py:3: LangChainDeprecationWarning: Please see the migration guide at: https://python.langchain.com/docs/versions/migrating_memory/\n",
      "  memory = ConversationSummaryMemory(llm=llm)  # Uses LLM to summarize\n"
     ]
    },
    {
     "name": "stdout",
     "output_type": "stream",
     "text": [
      "{'input': 'I live in Chennai and work as a data analyst.', 'history': '', 'response': \"That's great! Chennai is the capital city of the Indian state of Tamil Nadu and is known for its beautiful beaches and rich cultural heritage. As a data analyst, you must be skilled in analyzing and interpreting complex data sets to help businesses make informed decisions. What specific tools or programming languages do you use in your work?\"}\n",
      "{'input': 'I want to learn LangChain for interviews.', 'history': 'The human shares that they live in Chennai and work as a data analyst. The AI responds with information about Chennai and the role of a data analyst. The AI also asks about the specific tools or programming languages the human uses in their work.', 'response': \"That's great! LangChain is a popular programming language used in data analysis and machine learning. It's known for its simplicity and efficiency in handling large datasets. Are you already familiar with other programming languages like Python or R? Learning LangChain will definitely be a valuable addition to your skill set as a data analyst.\"}\n",
      "{'input': 'What do you remember about me?', 'history': \"The human shares that they live in Chennai and work as a data analyst. The AI responds with information about Chennai and the role of a data analyst, also asking about the specific tools or programming languages the human uses. The human expresses interest in learning LangChain for interviews, and the AI explains that it's a popular programming language known for its simplicity and efficiency in handling large datasets. Learning LangChain will be a valuable addition to the human's skill set as a data analyst, especially if they are already familiar with other programming languages like Python or R.\", 'response': 'You live in Chennai and work as a data analyst. Chennai is the capital city of the Indian state of Tamil Nadu, known for its beautiful beaches, rich cultural heritage, and delicious South Indian cuisine. As a data analyst, you analyze and interpret complex data to help organizations make informed decisions. I remember you mentioning an interest in learning LangChain for interviews. LangChain is a popular programming language known for its simplicity and efficiency in handling large datasets. It would be a valuable addition to your skill set as a data analyst, especially if you are already familiar with other programming languages like Python or R.'}\n"
     ]
    }
   ],
   "source": [
    "from langchain.memory import ConversationSummaryMemory\n",
    "\n",
    "memory = ConversationSummaryMemory(llm=llm)  # Uses LLM to summarize\n",
    "conversation = ConversationChain(llm=llm, memory=memory)\n",
    "\n",
    "print(conversation.invoke(\"I live in Chennai and work as a data analyst.\"))\n",
    "print(conversation.invoke(\"I want to learn LangChain for interviews.\"))\n",
    "print(conversation.invoke(\"What do you remember about me?\"))\n"
   ]
  },
  {
   "cell_type": "markdown",
   "id": "44513ea7-2be5-49ba-84c2-03e7e7e94c60",
   "metadata": {},
   "source": [
    "ConversationKGMemory (Knowledge Graph)"
   ]
  },
  {
   "cell_type": "code",
   "execution_count": 6,
   "id": "78509279-91df-4471-b63d-611e264fb964",
   "metadata": {
    "execution": {
     "iopub.execute_input": "2025-10-03T15:10:18.665752Z",
     "iopub.status.busy": "2025-10-03T15:10:18.665184Z",
     "iopub.status.idle": "2025-10-03T15:10:25.897785Z",
     "shell.execute_reply": "2025-10-03T15:10:25.893611Z",
     "shell.execute_reply.started": "2025-10-03T15:10:18.665706Z"
    }
   },
   "outputs": [
    {
     "name": "stdout",
     "output_type": "stream",
     "text": [
      "{'input': 'My name is Pavan and I live in Chennai.', 'history': '', 'response': \"Hello Pavan! It's nice to meet you. Chennai is a beautiful city known for its rich culture and history. Did you know that Chennai was formerly known as Madras and is the capital of the Indian state of Tamil Nadu? It is also one of the largest cultural, economic, and educational centers in South India. How long have you been living in Chennai?\"}\n",
      "{'input': 'I work as a Machine Learning Engineer.', 'history': '', 'response': \"That's fascinating! As a Machine Learning Engineer, you must be involved in developing and implementing algorithms that allow machines to learn from and make predictions or decisions based on data. It's a rapidly growing field with applications in various industries such as healthcare, finance, and autonomous vehicles. What specific projects are you currently working on in your role as a Machine Learning Engineer?\"}\n",
      "{'input': 'What do you know about me?', 'history': 'On Pavan: Pavan lives in Chennai.', 'response': \"I'm sorry, I don't have any information about you. Would you like to share something about yourself?\"}\n"
     ]
    }
   ],
   "source": [
    "from langchain.memory import ConversationKGMemory\n",
    "\n",
    "memory = ConversationKGMemory(llm=llm)\n",
    "conversation = ConversationChain(llm=llm, memory=memory)\n",
    "\n",
    "print(conversation.invoke(\"My name is Pavan and I live in Chennai.\"))\n",
    "print(conversation.invoke(\"I work as a Machine Learning Engineer.\"))\n",
    "print(conversation.invoke(\"What do you know about me?\"))\n"
   ]
  },
  {
   "cell_type": "markdown",
   "id": "f86231fd-2620-401a-ba6e-5ad90f11697c",
   "metadata": {
    "execution": {
     "iopub.execute_input": "2025-10-03T15:13:13.076529Z",
     "iopub.status.busy": "2025-10-03T15:13:13.075897Z",
     "iopub.status.idle": "2025-10-03T15:13:13.084019Z",
     "shell.execute_reply": "2025-10-03T15:13:13.082412Z",
     "shell.execute_reply.started": "2025-10-03T15:13:13.076471Z"
    }
   },
   "source": [
    "Custom Memory (Advanced)"
   ]
  },
  {
   "cell_type": "code",
   "execution_count": 8,
   "id": "0831acc3-318e-491a-b965-4a30c2230333",
   "metadata": {
    "execution": {
     "iopub.execute_input": "2025-10-03T15:10:44.953563Z",
     "iopub.status.busy": "2025-10-03T15:10:44.953308Z",
     "iopub.status.idle": "2025-10-03T15:10:44.963300Z",
     "shell.execute_reply": "2025-10-03T15:10:44.962639Z",
     "shell.execute_reply.started": "2025-10-03T15:10:44.953544Z"
    }
   },
   "outputs": [
    {
     "name": "stdout",
     "output_type": "stream",
     "text": [
      "[HumanMessage(content='I love Python.', additional_kwargs={}, response_metadata={}), AIMessage(content=\"That's great! Python is amazing for data science.\", additional_kwargs={}, response_metadata={})]\n"
     ]
    }
   ],
   "source": [
    "from langchain.memory import ChatMessageHistory\n",
    "\n",
    "# Example: custom manual memory\n",
    "history = ChatMessageHistory()\n",
    "history.add_user_message(\"I love Python.\")\n",
    "history.add_ai_message(\"That's great! Python is amazing for data science.\")\n",
    "\n",
    "print(history.messages)  # Access stored history\n",
    "\n"
   ]
  },
  {
   "cell_type": "code",
   "execution_count": null,
   "id": "87f3b1cc-6a41-4721-b0e3-97747aae158e",
   "metadata": {},
   "outputs": [],
   "source": []
  }
 ],
 "metadata": {
  "kernelspec": {
   "display_name": "Python [conda env:base] *",
   "language": "python",
   "name": "conda-base-py"
  },
  "language_info": {
   "codemirror_mode": {
    "name": "ipython",
    "version": 3
   },
   "file_extension": ".py",
   "mimetype": "text/x-python",
   "name": "python",
   "nbconvert_exporter": "python",
   "pygments_lexer": "ipython3",
   "version": "3.13.5"
  }
 },
 "nbformat": 4,
 "nbformat_minor": 5
}
